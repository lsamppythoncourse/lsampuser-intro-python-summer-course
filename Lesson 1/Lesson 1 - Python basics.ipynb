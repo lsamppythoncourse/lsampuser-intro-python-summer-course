{
 "cells": [
  {
   "cell_type": "markdown",
   "id": "65297d5d",
   "metadata": {},
   "source": [
    "## Lesson 1 - Python basics\n",
    "In this lesson we will cover:\n",
    "- What is a variable and how to declare it\n",
    "- Python basic operators\n",
    "- Data types in Python\n",
    "- Lists\n",
    "- Dictionaries\n",
    "- Tuples\n",
    "- Optional exercises\n",
    "\n",
    "All along the lessons you will see comments on the code starting with `#`, these are comment lines and are used to describe what the code is doing"
   ]
  },
  {
   "cell_type": "markdown",
   "id": "d927a42b",
   "metadata": {},
   "source": [
    "## What is a variable?\n",
    "\n",
    "Imagine variables as containers to store data values.\n",
    "We can asign values to these containers using the `=` sign."
   ]
  },
  {
   "cell_type": "code",
   "execution_count": 1,
   "id": "d273a7b9",
   "metadata": {},
   "outputs": [],
   "source": [
    "# Here we assign a to 4, and A to \"Python\"\n",
    "a = 4\n",
    "A = \"Python\""
   ]
  },
  {
   "cell_type": "code",
   "execution_count": 2,
   "id": "c6a73ac0",
   "metadata": {},
   "outputs": [
    {
     "name": "stdout",
     "output_type": "stream",
     "text": [
      "4\n",
      "Python\n"
     ]
    }
   ],
   "source": [
    "# Print the variables\n",
    "print(a)\n",
    "print(A)"
   ]
  },
  {
   "cell_type": "markdown",
   "id": "a800cba9",
   "metadata": {},
   "source": [
    "From the example above we can see that variables are case sensitive, so a variable named `Variable` will be different from another one called `variable`.\n",
    "Variable names can consist of uppercase and lowercase letters, digits and underscore. The first character of a variable name cannot be a digit"
   ]
  },
  {
   "cell_type": "code",
   "execution_count": 8,
   "id": "36e9c3df",
   "metadata": {},
   "outputs": [
    {
     "name": "stdout",
     "output_type": "stream",
     "text": [
      "55\n",
      "49\n"
     ]
    }
   ],
   "source": [
    "Variable = 55\n",
    "variable = 49\n",
    "print(Variable)\n",
    "print(variable)"
   ]
  },
  {
   "cell_type": "code",
   "execution_count": 10,
   "id": "3ade135f",
   "metadata": {},
   "outputs": [
    {
     "ename": "SyntaxError",
     "evalue": "invalid decimal literal (785943242.py, line 2)",
     "output_type": "error",
     "traceback": [
      "\u001b[1;36m  Input \u001b[1;32mIn [10]\u001b[1;36m\u001b[0m\n\u001b[1;33m    1_variable = \"Hi\" #invalid variable name, will throw an error\u001b[0m\n\u001b[1;37m     ^\u001b[0m\n\u001b[1;31mSyntaxError\u001b[0m\u001b[1;31m:\u001b[0m invalid decimal literal\n"
     ]
    }
   ],
   "source": [
    "a_variable = \"Hello\"\n",
    "1_variable = \"Hi\" #invalid variable name, will throw an error"
   ]
  },
  {
   "cell_type": "markdown",
   "id": "c31ad403",
   "metadata": {},
   "source": [
    "### Reserved words in Python\n",
    "For variable names:\n",
    "- We can use number, letters and underscores\n",
    "- Variables can include numbers, but not as the first character\n",
    "- There are some reserverd words in Python that cannot be used as variable names:\n",
    "\n",
    "`False\tdef\tif\traise\n",
    "None\tdel\timport\treturn\n",
    "True\telif\tin\ttry\n",
    "and\telse\tis\twhile\n",
    "as\texcept\tlambda\twith\n",
    "assert\tfinally\tnonlocal\tyield\n",
    "break\tfor\tnot\t\n",
    "class\tfrom\tor\t\n",
    "continue\tglobal\tpass`\n",
    "\n",
    "You can see this list any time by typing `help(\"keywords\")"
   ]
  },
  {
   "cell_type": "code",
   "execution_count": 2,
   "id": "9e951328",
   "metadata": {},
   "outputs": [
    {
     "name": "stdout",
     "output_type": "stream",
     "text": [
      "\n",
      "Here is a list of the Python keywords.  Enter any keyword to get more help.\n",
      "\n",
      "False               class               from                or\n",
      "None                continue            global              pass\n",
      "True                def                 if                  raise\n",
      "and                 del                 import              return\n",
      "as                  elif                in                  try\n",
      "assert              else                is                  while\n",
      "async               except              lambda              with\n",
      "await               finally             nonlocal            yield\n",
      "break               for                 not                 \n",
      "\n"
     ]
    }
   ],
   "source": [
    "help(\"keywords\")"
   ]
  },
  {
   "cell_type": "markdown",
   "id": "2ecace5e",
   "metadata": {},
   "source": [
    "## Operators\n",
    "We now know how to create variables. Lets explore the basic operators in Python. Operators are special symbols in Python that carry out arithmetic or logical computations\n",
    "\n",
    "Arithmetic operators are used to perform mathematical operations like addition, substraction, multiplication, etc\n",
    "\n",
    "| Symbol | Operator | Description |\n",
    "|--------|----------|-------------|\n",
    "|   +    | Addition |  Add two operands |\n",
    "| - | Substraction | Substract two operands |\n",
    "| * | Multiplication | Multiply two operands |\n",
    "| / | Division | Divide two operands |\n",
    "| % | Modulus | Remainder of the division of left operand by the right |\n",
    "| // | Floor division |  Division that results into whole number adjusted to the left in the number line |\n",
    "| ** | Exponent | Left operand raised to the power of right |"
   ]
  },
  {
   "cell_type": "markdown",
   "id": "eb521890",
   "metadata": {},
   "source": [
    "## Types\n",
    "Each variable can be of a particular type, but this type does not needs to be declared when you create the variable, and can even be changed after they have been set"
   ]
  },
  {
   "cell_type": "code",
   "execution_count": 4,
   "id": "f1ce33e5",
   "metadata": {},
   "outputs": [
    {
     "name": "stdout",
     "output_type": "stream",
     "text": [
      "100\n"
     ]
    }
   ],
   "source": [
    "n = 100 #variable of type integer\n",
    "print(n)"
   ]
  },
  {
   "cell_type": "code",
   "execution_count": 3,
   "id": "9ba75bd0",
   "metadata": {},
   "outputs": [
    {
     "name": "stdout",
     "output_type": "stream",
     "text": [
      "Now Im a different variable, of type string\n"
     ]
    }
   ],
   "source": [
    "n = \"Now Im a different variable, of type string\"\n",
    "print(n)"
   ]
  },
  {
   "cell_type": "code",
   "execution_count": 2,
   "id": "643fc42f",
   "metadata": {},
   "outputs": [
    {
     "name": "stdout",
     "output_type": "stream",
     "text": [
      "300 300 300\n"
     ]
    }
   ],
   "source": [
    "#Python also allows for chained variable assignments\n",
    "a = b = c = 300\n",
    "print(a, b, c)"
   ]
  },
  {
   "cell_type": "markdown",
   "id": "e4e0ed01",
   "metadata": {},
   "source": [
    "Python is a highly object-oriented language. Every itme of data in Python is an object of a specific type or class. Consider the following code. Python does the following:\n",
    "- Create a integer object\n",
    "- Gives a value of 300\n",
    "- Displays it to the console"
   ]
  },
  {
   "cell_type": "code",
   "execution_count": 5,
   "id": "a62138f0",
   "metadata": {},
   "outputs": [
    {
     "name": "stdout",
     "output_type": "stream",
     "text": [
      "100\n"
     ]
    }
   ],
   "source": [
    "print(100)"
   ]
  },
  {
   "cell_type": "markdown",
   "id": "85e49441",
   "metadata": {},
   "source": [
    "To see the actual integer object you can use the `type()` function"
   ]
  },
  {
   "cell_type": "code",
   "execution_count": 6,
   "id": "5cbda040",
   "metadata": {},
   "outputs": [
    {
     "data": {
      "text/plain": [
       "int"
      ]
     },
     "execution_count": 6,
     "metadata": {},
     "output_type": "execute_result"
    }
   ],
   "source": [
    "type(100)"
   ]
  },
  {
   "cell_type": "markdown",
   "id": "64edd62c",
   "metadata": {},
   "source": [
    "## Basic Data Types\n",
    "- Numeric (integer numbers, floating point)\n",
    "- String (letters, characters)\n",
    "- Boolean (True or False, 0 or 1)"
   ]
  },
  {
   "cell_type": "markdown",
   "id": "2f8cd151",
   "metadata": {},
   "source": [
    "### Integers\n",
    "An integer value can be as big as you need it to be, this is only constrained by the amount of memory in the system. Python will interpret a sequence of decimal digits without any prefix to be a decimal number:"
   ]
  },
  {
   "cell_type": "code",
   "execution_count": 7,
   "id": "46402c16",
   "metadata": {},
   "outputs": [
    {
     "name": "stdout",
     "output_type": "stream",
     "text": [
      "123456789123456789123456789123456789123456789123456789123456789123456789123456789123456789\n"
     ]
    }
   ],
   "source": [
    "print(123456789123456789123456789123456789123456789123456789123456789123456789123456789123456789)"
   ]
  },
  {
   "cell_type": "code",
   "execution_count": 8,
   "id": "2698b8d4",
   "metadata": {},
   "outputs": [
    {
     "name": "stdout",
     "output_type": "stream",
     "text": [
      "10\n"
     ]
    }
   ],
   "source": [
    "print(10)"
   ]
  },
  {
   "cell_type": "code",
   "execution_count": 11,
   "id": "fa03d0d3",
   "metadata": {},
   "outputs": [
    {
     "name": "stdout",
     "output_type": "stream",
     "text": [
      "2\n",
      "8\n",
      "16\n"
     ]
    }
   ],
   "source": [
    "#Binary representation\n",
    "#use 0b prefix\n",
    "print(0b10)\n",
    "\n",
    "#Octal representation\n",
    "#use 0O prefix\n",
    "print(0O10)\n",
    "\n",
    "#Hexadecimal representation\n",
    "#use 0X prefix\n",
    "print(0X10)"
   ]
  },
  {
   "cell_type": "code",
   "execution_count": 16,
   "id": "36a83fc0",
   "metadata": {},
   "outputs": [
    {
     "data": {
      "text/plain": [
       "int"
      ]
     },
     "execution_count": 16,
     "metadata": {},
     "output_type": "execute_result"
    }
   ],
   "source": [
    "#The data type is still integer\n",
    "type(0b10)"
   ]
  },
  {
   "cell_type": "code",
   "execution_count": 17,
   "id": "7e26ec9e",
   "metadata": {},
   "outputs": [
    {
     "data": {
      "text/plain": [
       "int"
      ]
     },
     "execution_count": 17,
     "metadata": {},
     "output_type": "execute_result"
    }
   ],
   "source": [
    "type(0O10)"
   ]
  },
  {
   "cell_type": "code",
   "execution_count": 18,
   "id": "3e11bb06",
   "metadata": {},
   "outputs": [
    {
     "data": {
      "text/plain": [
       "int"
      ]
     },
     "execution_count": 18,
     "metadata": {},
     "output_type": "execute_result"
    }
   ],
   "source": [
    "type(0X10)"
   ]
  },
  {
   "cell_type": "markdown",
   "id": "9fe061d9",
   "metadata": {},
   "source": [
    "### Floating point numbers\n",
    "The `float` type designates a floating-point number, which specifies a decimal point. This can also represent scientific notation using the character `e` or `E`"
   ]
  },
  {
   "cell_type": "code",
   "execution_count": 19,
   "id": "96c151b0",
   "metadata": {},
   "outputs": [
    {
     "data": {
      "text/plain": [
       "3.14"
      ]
     },
     "execution_count": 19,
     "metadata": {},
     "output_type": "execute_result"
    }
   ],
   "source": [
    "3.14"
   ]
  },
  {
   "cell_type": "code",
   "execution_count": 20,
   "id": "689dee34",
   "metadata": {},
   "outputs": [
    {
     "data": {
      "text/plain": [
       "float"
      ]
     },
     "execution_count": 20,
     "metadata": {},
     "output_type": "execute_result"
    }
   ],
   "source": [
    "type(3.14)"
   ]
  },
  {
   "cell_type": "code",
   "execution_count": 21,
   "id": "8a599c7a",
   "metadata": {},
   "outputs": [
    {
     "data": {
      "text/plain": [
       "0.99"
      ]
     },
     "execution_count": 21,
     "metadata": {},
     "output_type": "execute_result"
    }
   ],
   "source": [
    ".99"
   ]
  },
  {
   "cell_type": "code",
   "execution_count": 22,
   "id": "b597680a",
   "metadata": {},
   "outputs": [
    {
     "data": {
      "text/plain": [
       "500000000.0"
      ]
     },
     "execution_count": 22,
     "metadata": {},
     "output_type": "execute_result"
    }
   ],
   "source": [
    "5e8"
   ]
  },
  {
   "cell_type": "code",
   "execution_count": 23,
   "id": "6af99295",
   "metadata": {},
   "outputs": [
    {
     "data": {
      "text/plain": [
       "float"
      ]
     },
     "execution_count": 23,
     "metadata": {},
     "output_type": "execute_result"
    }
   ],
   "source": [
    "type(5e8)"
   ]
  },
  {
   "cell_type": "code",
   "execution_count": 24,
   "id": "dc9d4797",
   "metadata": {},
   "outputs": [
    {
     "data": {
      "text/plain": [
       "5.67e-06"
      ]
     },
     "execution_count": 24,
     "metadata": {},
     "output_type": "execute_result"
    }
   ],
   "source": [
    "5.67E-6"
   ]
  },
  {
   "cell_type": "code",
   "execution_count": 25,
   "id": "c0379fb3",
   "metadata": {},
   "outputs": [
    {
     "data": {
      "text/plain": [
       "10.0"
      ]
     },
     "execution_count": 25,
     "metadata": {},
     "output_type": "execute_result"
    }
   ],
   "source": [
    "#We can also convert or cast a integer to a float with float()\n",
    "float(10)"
   ]
  },
  {
   "cell_type": "markdown",
   "id": "6fd43043",
   "metadata": {},
   "source": [
    "Almost all platforms represent Python float values as 64-bit “double-precision” values, according to the IEEE 754 standard. In that case, the maximum value a floating-point number can have is approximately 1.8 ⨉ 10308. Python will indicate a number greater than that by the string inf"
   ]
  },
  {
   "cell_type": "code",
   "execution_count": 26,
   "id": "8488b000",
   "metadata": {},
   "outputs": [
    {
     "data": {
      "text/plain": [
       "1.79e+308"
      ]
     },
     "execution_count": 26,
     "metadata": {},
     "output_type": "execute_result"
    }
   ],
   "source": [
    "1.79e308"
   ]
  },
  {
   "cell_type": "code",
   "execution_count": 27,
   "id": "e9e58b9a",
   "metadata": {},
   "outputs": [
    {
     "data": {
      "text/plain": [
       "inf"
      ]
     },
     "execution_count": 27,
     "metadata": {},
     "output_type": "execute_result"
    }
   ],
   "source": [
    "1.8e308"
   ]
  },
  {
   "cell_type": "markdown",
   "id": "545099db",
   "metadata": {},
   "source": [
    "The closest a nonzero number can be to zero is approximately 5.0 ⨉ 10-324. Anything closer to zero than that is effectively zero:"
   ]
  },
  {
   "cell_type": "code",
   "execution_count": 28,
   "id": "2da777ac",
   "metadata": {},
   "outputs": [
    {
     "data": {
      "text/plain": [
       "5e-324"
      ]
     },
     "execution_count": 28,
     "metadata": {},
     "output_type": "execute_result"
    }
   ],
   "source": [
    "5e-324"
   ]
  },
  {
   "cell_type": "code",
   "execution_count": 29,
   "id": "cdde2a65",
   "metadata": {},
   "outputs": [
    {
     "data": {
      "text/plain": [
       "0.0"
      ]
     },
     "execution_count": 29,
     "metadata": {},
     "output_type": "execute_result"
    }
   ],
   "source": [
    "1e-325"
   ]
  },
  {
   "cell_type": "markdown",
   "id": "69cf2b84",
   "metadata": {},
   "source": [
    "In most cases the internal representation of a floating-point number is an approximation of the actual value. In practice, the difference between the actual value and the represented value is very small and should not usually cause significant problems."
   ]
  },
  {
   "cell_type": "code",
   "execution_count": 31,
   "id": "05711ac5",
   "metadata": {},
   "outputs": [
    {
     "data": {
      "text/plain": [
       "False"
      ]
     },
     "execution_count": 31,
     "metadata": {},
     "output_type": "execute_result"
    }
   ],
   "source": [
    "# == means 'is equal?' or 'is this equal to this?'\n",
    "0.1 + 0.2 == 0.3"
   ]
  },
  {
   "cell_type": "code",
   "execution_count": 33,
   "id": "c4f0446e",
   "metadata": {},
   "outputs": [
    {
     "name": "stdout",
     "output_type": "stream",
     "text": [
      "0.1 = 0.10000000000000001\n",
      "0.2 = 0.20000000000000001\n",
      "0.3 = 0.29999999999999999\n"
     ]
    }
   ],
   "source": [
    "#Lets format our float numbers to have 17 decimal places\n",
    "print(\"0.1 = {0:.17f}\".format(0.1))\n",
    "print(\"0.2 = {0:.17f}\".format(0.2))\n",
    "print(\"0.3 = {0:.17f}\".format(0.3))"
   ]
  },
  {
   "cell_type": "markdown",
   "id": "4f5896de",
   "metadata": {},
   "source": [
    "### Complex numbers\n",
    "Complex numbers are specified as `<real part>+<imaginary part>j`. You can print only the real or imaginary part by using `.imag` or `.real`"
   ]
  },
  {
   "cell_type": "code",
   "execution_count": 34,
   "id": "298bf4f7",
   "metadata": {},
   "outputs": [
    {
     "data": {
      "text/plain": [
       "(2+5j)"
      ]
     },
     "execution_count": 34,
     "metadata": {},
     "output_type": "execute_result"
    }
   ],
   "source": [
    "2+5j"
   ]
  },
  {
   "cell_type": "code",
   "execution_count": 35,
   "id": "55f38c7c",
   "metadata": {},
   "outputs": [
    {
     "data": {
      "text/plain": [
       "complex"
      ]
     },
     "execution_count": 35,
     "metadata": {},
     "output_type": "execute_result"
    }
   ],
   "source": [
    "type(2+5j)"
   ]
  },
  {
   "cell_type": "code",
   "execution_count": 37,
   "id": "d8d84ba7",
   "metadata": {},
   "outputs": [
    {
     "data": {
      "text/plain": [
       "1.0"
      ]
     },
     "execution_count": 37,
     "metadata": {},
     "output_type": "execute_result"
    }
   ],
   "source": [
    "comp = 1+2j\n",
    "comp.real"
   ]
  },
  {
   "cell_type": "code",
   "execution_count": 38,
   "id": "19826f04",
   "metadata": {},
   "outputs": [
    {
     "data": {
      "text/plain": [
       "2.0"
      ]
     },
     "execution_count": 38,
     "metadata": {},
     "output_type": "execute_result"
    }
   ],
   "source": [
    "comp.imag"
   ]
  },
  {
   "cell_type": "markdown",
   "id": "59bb12dd",
   "metadata": {},
   "source": [
    "### Strings\n",
    "Strings are sequences of character data. In Python this is called `str`. \n",
    "Strings can be limited by single or double quotes."
   ]
  },
  {
   "cell_type": "code",
   "execution_count": 40,
   "id": "78aea91a",
   "metadata": {},
   "outputs": [
    {
     "name": "stdout",
     "output_type": "stream",
     "text": [
      "This is a string\n"
     ]
    },
    {
     "data": {
      "text/plain": [
       "str"
      ]
     },
     "execution_count": 40,
     "metadata": {},
     "output_type": "execute_result"
    }
   ],
   "source": [
    "print(\"This is a string\")\n",
    "type(\"What is my type?\")"
   ]
  },
  {
   "cell_type": "code",
   "execution_count": 41,
   "id": "22b82343",
   "metadata": {},
   "outputs": [
    {
     "name": "stdout",
     "output_type": "stream",
     "text": [
      "This is also a string\n"
     ]
    },
    {
     "data": {
      "text/plain": [
       "str"
      ]
     },
     "execution_count": 41,
     "metadata": {},
     "output_type": "execute_result"
    }
   ],
   "source": [
    "print('This is also a string')\n",
    "type('Am I a string?')"
   ]
  },
  {
   "cell_type": "markdown",
   "id": "145cb9e7",
   "metadata": {},
   "source": [
    "A string can contain as many characters as you wish. The only limit is the computer memory. A string can also be empty."
   ]
  },
  {
   "cell_type": "code",
   "execution_count": 43,
   "id": "1f921753",
   "metadata": {},
   "outputs": [
    {
     "data": {
      "text/plain": [
       "str"
      ]
     },
     "execution_count": 43,
     "metadata": {},
     "output_type": "execute_result"
    }
   ],
   "source": [
    "''\n",
    "type('')"
   ]
  },
  {
   "cell_type": "code",
   "execution_count": 45,
   "id": "8d4d828d",
   "metadata": {},
   "outputs": [
    {
     "name": "stdout",
     "output_type": "stream",
     "text": [
      "Here is a single quote ''\n",
      "Here is a double quote \"\"\n"
     ]
    }
   ],
   "source": [
    "#Double and single quotes can be combined\n",
    "print(\"Here is a single quote ''\")\n",
    "\n",
    "print('Here is a double quote \"\"')"
   ]
  },
  {
   "cell_type": "markdown",
   "id": "78932997",
   "metadata": {},
   "source": [
    "Here are some useful string functions, concatenation and indexing"
   ]
  },
  {
   "cell_type": "code",
   "execution_count": 46,
   "id": "10ae543b",
   "metadata": {},
   "outputs": [
    {
     "data": {
      "text/plain": [
       "17"
      ]
     },
     "execution_count": 46,
     "metadata": {},
     "output_type": "execute_result"
    }
   ],
   "source": [
    "message = \"what do you like?\"\n",
    "# length of string\n",
    "len(message)"
   ]
  },
  {
   "cell_type": "code",
   "execution_count": 47,
   "id": "38b2f65c",
   "metadata": {},
   "outputs": [
    {
     "data": {
      "text/plain": [
       "'WHAT DO YOU LIKE?'"
      ]
     },
     "execution_count": 47,
     "metadata": {},
     "output_type": "execute_result"
    }
   ],
   "source": [
    "# Make upper-case. See also str.lower()\n",
    "message.upper()"
   ]
  },
  {
   "cell_type": "code",
   "execution_count": 48,
   "id": "f30c3eec",
   "metadata": {},
   "outputs": [
    {
     "data": {
      "text/plain": [
       "'what do you like?'"
      ]
     },
     "execution_count": 48,
     "metadata": {},
     "output_type": "execute_result"
    }
   ],
   "source": [
    "# Make lower-case.\n",
    "message.lower()"
   ]
  },
  {
   "cell_type": "code",
   "execution_count": 49,
   "id": "58378fff",
   "metadata": {},
   "outputs": [
    {
     "data": {
      "text/plain": [
       "'What do you like?'"
      ]
     },
     "execution_count": 49,
     "metadata": {},
     "output_type": "execute_result"
    }
   ],
   "source": [
    "# Capitalize. See also str.title()\n",
    "message.capitalize()"
   ]
  },
  {
   "cell_type": "code",
   "execution_count": 50,
   "id": "e6b59e79",
   "metadata": {},
   "outputs": [
    {
     "data": {
      "text/plain": [
       "'What Do You Like?'"
      ]
     },
     "execution_count": 50,
     "metadata": {},
     "output_type": "execute_result"
    }
   ],
   "source": [
    "# Capitalize every first letter\n",
    "message.title()"
   ]
  },
  {
   "cell_type": "code",
   "execution_count": 52,
   "id": "b45c0f40",
   "metadata": {},
   "outputs": [
    {
     "data": {
      "text/plain": [
       "'what do you like? I like Python'"
      ]
     },
     "execution_count": 52,
     "metadata": {},
     "output_type": "execute_result"
    }
   ],
   "source": [
    "# Concatenate or join two or more strings with +\n",
    "message + \" I like Python\""
   ]
  },
  {
   "cell_type": "code",
   "execution_count": 53,
   "id": "4c466e71",
   "metadata": {},
   "outputs": [
    {
     "data": {
      "text/plain": [
       "'I like PythonI like PythonI like PythonI like PythonI like Python'"
      ]
     },
     "execution_count": 53,
     "metadata": {},
     "output_type": "execute_result"
    }
   ],
   "source": [
    "# an astherisc * will multiply your string\n",
    "like = \"I like Python\"\n",
    "like * 5"
   ]
  },
  {
   "cell_type": "markdown",
   "id": "a151b0f1",
   "metadata": {},
   "source": [
    "Indexing means accesing the individual elements or characters of a string (or list, as you will see later). To index a string use the `[]` brackets and the number you want to index. Just remember Python uses zero-based index."
   ]
  },
  {
   "cell_type": "code",
   "execution_count": 55,
   "id": "d49a55db",
   "metadata": {},
   "outputs": [
    {
     "data": {
      "text/plain": [
       "'I'"
      ]
     },
     "execution_count": 55,
     "metadata": {},
     "output_type": "execute_result"
    }
   ],
   "source": [
    "like[0]"
   ]
  },
  {
   "cell_type": "code",
   "execution_count": 58,
   "id": "ff85a50d",
   "metadata": {},
   "outputs": [
    {
     "data": {
      "text/plain": [
       "' '"
      ]
     },
     "execution_count": 58,
     "metadata": {},
     "output_type": "execute_result"
    }
   ],
   "source": [
    "like[1]"
   ]
  },
  {
   "cell_type": "code",
   "execution_count": 63,
   "id": "474dcf0c",
   "metadata": {},
   "outputs": [
    {
     "name": "stdout",
     "output_type": "stream",
     "text": [
      "I   l i k\n"
     ]
    }
   ],
   "source": [
    "print(like[0], like[1], like[2], like[3], like[4])"
   ]
  },
  {
   "cell_type": "code",
   "execution_count": 66,
   "id": "a72d19c1",
   "metadata": {},
   "outputs": [
    {
     "data": {
      "text/plain": [
       "'n'"
      ]
     },
     "execution_count": 66,
     "metadata": {},
     "output_type": "execute_result"
    }
   ],
   "source": [
    "# A negative index will start counting from the right side\n",
    "# Here is the last letter\n",
    "like[-1]"
   ]
  },
  {
   "cell_type": "markdown",
   "id": "5fe325f2",
   "metadata": {},
   "source": [
    "### Optional Exercise\n",
    "Create two string variables, one with your first name, another with your last name.\n",
    "- Concatenate these two variables\n",
    "- Index just the first letter of your name and the first letter of your last name using `[]`, concatenate and print these two characters.\n",
    "- Can you print the initials of your first and last name but this time only in lowercase letters?\n",
    "- Try to print the following rectangle using only string multiplication with `*`\n",
    "\n",
    "`**************` \\\n",
    "`*            *` \\\n",
    "`*            *` \\\n",
    "`*            *` \\\n",
    "`*            *` \\\n",
    "`*            *` \\\n",
    "`**************` "
   ]
  },
  {
   "cell_type": "markdown",
   "id": "6a3766cf",
   "metadata": {},
   "source": [
    "### Boolean Type\n",
    "Objects of Boolean type may have one of two values, `True` or `False`:\n",
    "Expressions in Python are often evaluated in Boolean context, meaning they are interpreted to represent truth or falsehood."
   ]
  },
  {
   "cell_type": "code",
   "execution_count": 69,
   "id": "fbb1b3cc",
   "metadata": {},
   "outputs": [
    {
     "data": {
      "text/plain": [
       "True"
      ]
     },
     "execution_count": 69,
     "metadata": {},
     "output_type": "execute_result"
    }
   ],
   "source": [
    "# Compare if 4 if less than 5\n",
    "result = (4 < 5)\n",
    "result"
   ]
  },
  {
   "cell_type": "code",
   "execution_count": 71,
   "id": "c61ec305",
   "metadata": {},
   "outputs": [
    {
     "data": {
      "text/plain": [
       "bool"
      ]
     },
     "execution_count": 71,
     "metadata": {},
     "output_type": "execute_result"
    }
   ],
   "source": [
    "type(result)"
   ]
  },
  {
   "cell_type": "code",
   "execution_count": 72,
   "id": "b0e45897",
   "metadata": {},
   "outputs": [
    {
     "name": "stdout",
     "output_type": "stream",
     "text": [
      "True False\n"
     ]
    }
   ],
   "source": [
    "print(True, False)"
   ]
  },
  {
   "cell_type": "code",
   "execution_count": 76,
   "id": "b5aab6f0",
   "metadata": {},
   "outputs": [
    {
     "data": {
      "text/plain": [
       "True"
      ]
     },
     "execution_count": 76,
     "metadata": {},
     "output_type": "execute_result"
    }
   ],
   "source": [
    "# Not zero\n",
    "bool(2014)"
   ]
  },
  {
   "cell_type": "code",
   "execution_count": 77,
   "id": "3e20f5c3",
   "metadata": {},
   "outputs": [
    {
     "data": {
      "text/plain": [
       "False"
      ]
     },
     "execution_count": 77,
     "metadata": {},
     "output_type": "execute_result"
    }
   ],
   "source": [
    "# A zero is equal to False\n",
    "bool(0)"
   ]
  },
  {
   "cell_type": "code",
   "execution_count": 78,
   "id": "67d70d06",
   "metadata": {},
   "outputs": [
    {
     "data": {
      "text/plain": [
       "True"
      ]
     },
     "execution_count": 78,
     "metadata": {},
     "output_type": "execute_result"
    }
   ],
   "source": [
    "# Also not zero\n",
    "bool(3.1415)"
   ]
  },
  {
   "cell_type": "code",
   "execution_count": 79,
   "id": "61a8db9a",
   "metadata": {},
   "outputs": [
    {
     "data": {
      "text/plain": [
       "False"
      ]
     },
     "execution_count": 79,
     "metadata": {},
     "output_type": "execute_result"
    }
   ],
   "source": [
    "bool(None)"
   ]
  },
  {
   "cell_type": "code",
   "execution_count": 81,
   "id": "c4ac8aec",
   "metadata": {},
   "outputs": [
    {
     "data": {
      "text/plain": [
       "False"
      ]
     },
     "execution_count": 81,
     "metadata": {},
     "output_type": "execute_result"
    }
   ],
   "source": [
    "# Empty string\n",
    "bool(\"\")"
   ]
  },
  {
   "cell_type": "code",
   "execution_count": 82,
   "id": "b55886b2",
   "metadata": {},
   "outputs": [
    {
     "data": {
      "text/plain": [
       "True"
      ]
     },
     "execution_count": 82,
     "metadata": {},
     "output_type": "execute_result"
    }
   ],
   "source": [
    "bool(\"abc\")"
   ]
  },
  {
   "cell_type": "code",
   "execution_count": 83,
   "id": "510bda47",
   "metadata": {},
   "outputs": [
    {
     "data": {
      "text/plain": [
       "True"
      ]
     },
     "execution_count": 83,
     "metadata": {},
     "output_type": "execute_result"
    }
   ],
   "source": [
    "bool([1, 2, 3])"
   ]
  },
  {
   "cell_type": "code",
   "execution_count": 84,
   "id": "6466ab80",
   "metadata": {},
   "outputs": [
    {
     "data": {
      "text/plain": [
       "False"
      ]
     },
     "execution_count": 84,
     "metadata": {},
     "output_type": "execute_result"
    }
   ],
   "source": [
    "# Empty list\n",
    "bool([])"
   ]
  },
  {
   "cell_type": "code",
   "execution_count": 85,
   "id": "a1082049",
   "metadata": {},
   "outputs": [
    {
     "data": {
      "text/plain": [
       "False"
      ]
     },
     "execution_count": 85,
     "metadata": {},
     "output_type": "execute_result"
    }
   ],
   "source": [
    "bool(0.0)"
   ]
  },
  {
   "cell_type": "code",
   "execution_count": 86,
   "id": "0f4a3cf2",
   "metadata": {},
   "outputs": [
    {
     "data": {
      "text/plain": [
       "True"
      ]
     },
     "execution_count": 86,
     "metadata": {},
     "output_type": "execute_result"
    }
   ],
   "source": [
    "bool(1.0)"
   ]
  },
  {
   "cell_type": "code",
   "execution_count": 87,
   "id": "a5ad8551",
   "metadata": {},
   "outputs": [
    {
     "data": {
      "text/plain": [
       "1"
      ]
     },
     "execution_count": 87,
     "metadata": {},
     "output_type": "execute_result"
    }
   ],
   "source": [
    "int(True)"
   ]
  },
  {
   "cell_type": "code",
   "execution_count": 89,
   "id": "ebaa2672",
   "metadata": {},
   "outputs": [
    {
     "data": {
      "text/plain": [
       "0"
      ]
     },
     "execution_count": 89,
     "metadata": {},
     "output_type": "execute_result"
    }
   ],
   "source": [
    "int(False)"
   ]
  },
  {
   "cell_type": "markdown",
   "id": "156dfe28",
   "metadata": {},
   "source": [
    "### Other useful data types\n",
    "### Lists\n",
    "Lists are mutable collections of objects, similar to arrays in other programming languages. Lists are defined in Python by enclosing a comma-separated sequence of objects in square brackets `[]`\n",
    "- Lists are ordered\n",
    "- Lists can contain different types of objects\n",
    "- List objects can be accessed by index\n",
    "- Lists can be nested to arbitrary depth e.g. list of lists\n",
    "- Lists are mutable, they can be changed"
   ]
  },
  {
   "cell_type": "code",
   "execution_count": 91,
   "id": "4add7d38",
   "metadata": {},
   "outputs": [
    {
     "data": {
      "text/plain": [
       "['John', 'Mary', 'Max', 'Wanda']"
      ]
     },
     "execution_count": 91,
     "metadata": {},
     "output_type": "execute_result"
    }
   ],
   "source": [
    "# Creating a string list\n",
    "friends = ['John', 'Mary', 'Max', 'Wanda']\n",
    "friends"
   ]
  },
  {
   "cell_type": "code",
   "execution_count": 92,
   "id": "65faca10",
   "metadata": {},
   "outputs": [
    {
     "data": {
      "text/plain": [
       "False"
      ]
     },
     "execution_count": 92,
     "metadata": {},
     "output_type": "execute_result"
    }
   ],
   "source": [
    "# Lists are ordered\n",
    "# lists with the same elements in different order are not the same\n",
    "a = [1, 2, 3, 4, 5]\n",
    "b = [1, 2, 4, 3, 5]\n",
    "\n",
    "a == b"
   ]
  },
  {
   "cell_type": "code",
   "execution_count": 93,
   "id": "14fa7954",
   "metadata": {},
   "outputs": [
    {
     "data": {
      "text/plain": [
       "False"
      ]
     },
     "execution_count": 93,
     "metadata": {},
     "output_type": "execute_result"
    }
   ],
   "source": [
    "a is b"
   ]
  },
  {
   "cell_type": "code",
   "execution_count": 94,
   "id": "d0ae682c",
   "metadata": {},
   "outputs": [
    {
     "data": {
      "text/plain": [
       "[10, 3.14, 'hello', True]"
      ]
     },
     "execution_count": 94,
     "metadata": {},
     "output_type": "execute_result"
    }
   ],
   "source": [
    "# Lists can contain different types of objects\n",
    "c = [10, 3.14, 'hello', True]\n",
    "c"
   ]
  },
  {
   "cell_type": "code",
   "execution_count": 95,
   "id": "1be3520d",
   "metadata": {},
   "outputs": [
    {
     "data": {
      "text/plain": [
       "list"
      ]
     },
     "execution_count": 95,
     "metadata": {},
     "output_type": "execute_result"
    }
   ],
   "source": [
    "type(c)"
   ]
  },
  {
   "cell_type": "code",
   "execution_count": 97,
   "id": "33c22ce1",
   "metadata": {},
   "outputs": [
    {
     "data": {
      "text/plain": [
       "bool"
      ]
     },
     "execution_count": 97,
     "metadata": {},
     "output_type": "execute_result"
    }
   ],
   "source": [
    "type(c[3])"
   ]
  },
  {
   "cell_type": "code",
   "execution_count": 102,
   "id": "64a0c4a9",
   "metadata": {},
   "outputs": [],
   "source": [
    "# Lists can contain the same object multiple times\n",
    "d = ['bark', 'cat', 'cat', 'dog']"
   ]
  },
  {
   "cell_type": "code",
   "execution_count": 103,
   "id": "2ea04079",
   "metadata": {},
   "outputs": [
    {
     "data": {
      "text/plain": [
       "'bark'"
      ]
     },
     "execution_count": 103,
     "metadata": {},
     "output_type": "execute_result"
    }
   ],
   "source": [
    "# Lists objects can be accessed by index\n",
    "d[0]"
   ]
  },
  {
   "cell_type": "code",
   "execution_count": 104,
   "id": "5c65e5ee",
   "metadata": {},
   "outputs": [
    {
     "data": {
      "text/plain": [
       "'cat'"
      ]
     },
     "execution_count": 104,
     "metadata": {},
     "output_type": "execute_result"
    }
   ],
   "source": [
    "d[1]"
   ]
  },
  {
   "cell_type": "code",
   "execution_count": 105,
   "id": "b0d744d5",
   "metadata": {},
   "outputs": [
    {
     "data": {
      "text/plain": [
       "'dog'"
      ]
     },
     "execution_count": 105,
     "metadata": {},
     "output_type": "execute_result"
    }
   ],
   "source": [
    "# Remember a negative index counts from the end of the list\n",
    "d[-1]"
   ]
  },
  {
   "cell_type": "markdown",
   "id": "1b769660",
   "metadata": {},
   "source": [
    "Slicing a list means taking a range of the objects that exist in that list, this is done by the square brackets and two index numbers separated by `:` similar to this `[0:3]`. In a list `a`, `a[m:n]` returns the portion of a from index m to, but not including, index n"
   ]
  },
  {
   "cell_type": "code",
   "execution_count": 106,
   "id": "f2db9054",
   "metadata": {},
   "outputs": [
    {
     "data": {
      "text/plain": [
       "['John', 'Mary']"
      ]
     },
     "execution_count": 106,
     "metadata": {},
     "output_type": "execute_result"
    }
   ],
   "source": [
    "friends[0:2]"
   ]
  },
  {
   "cell_type": "code",
   "execution_count": 110,
   "id": "b6d5d7d6",
   "metadata": {},
   "outputs": [
    {
     "data": {
      "text/plain": [
       "['Mary', 'Max']"
      ]
     },
     "execution_count": 110,
     "metadata": {},
     "output_type": "execute_result"
    }
   ],
   "source": [
    "# not including index 3\n",
    "friends[1:3]"
   ]
  },
  {
   "cell_type": "code",
   "execution_count": 111,
   "id": "000942df",
   "metadata": {},
   "outputs": [
    {
     "data": {
      "text/plain": [
       "'Wanda'"
      ]
     },
     "execution_count": 111,
     "metadata": {},
     "output_type": "execute_result"
    }
   ],
   "source": [
    "friends[3]"
   ]
  },
  {
   "cell_type": "code",
   "execution_count": 118,
   "id": "2a5e7c1e",
   "metadata": {},
   "outputs": [
    {
     "data": {
      "text/plain": [
       "['Mary', 'Max', 'Wanda']"
      ]
     },
     "execution_count": 118,
     "metadata": {},
     "output_type": "execute_result"
    }
   ],
   "source": [
    "# Negative slicing is supported\n",
    "friends[-3: 4]"
   ]
  },
  {
   "cell_type": "code",
   "execution_count": 119,
   "id": "538dcb72",
   "metadata": {},
   "outputs": [
    {
     "data": {
      "text/plain": [
       "['John', 'Mary', 'Max']"
      ]
     },
     "execution_count": 119,
     "metadata": {},
     "output_type": "execute_result"
    }
   ],
   "source": [
    "# Omiting the first index starts at the beginning of the list\n",
    "friends[:3]"
   ]
  },
  {
   "cell_type": "code",
   "execution_count": 120,
   "id": "21e387e2",
   "metadata": {},
   "outputs": [
    {
     "data": {
      "text/plain": [
       "['John', 'Mary', 'Max', 'Wanda']"
      ]
     },
     "execution_count": 120,
     "metadata": {},
     "output_type": "execute_result"
    }
   ],
   "source": [
    "# Omiting the second index extend the slice to the end of the list\n",
    "friends[0:]"
   ]
  },
  {
   "cell_type": "code",
   "execution_count": 121,
   "id": "187c870f",
   "metadata": {},
   "outputs": [
    {
     "data": {
      "text/plain": [
       "['John', 'Max']"
      ]
     },
     "execution_count": 121,
     "metadata": {},
     "output_type": "execute_result"
    }
   ],
   "source": [
    "# You can also specify a step\n",
    "friends[0:4:2]"
   ]
  },
  {
   "cell_type": "code",
   "execution_count": 126,
   "id": "7e202ccb",
   "metadata": {},
   "outputs": [
    {
     "data": {
      "text/plain": [
       "[0, 1, 2, 3, 4, 5, 6, 7, 8, 9]"
      ]
     },
     "execution_count": 126,
     "metadata": {},
     "output_type": "execute_result"
    }
   ],
   "source": [
    "# Lets visualize step/stride with a numeric list\n",
    "numbers = [0, 1, 2, 3, 4, 5, 6, 7, 8, 9]\n",
    "numbers"
   ]
  },
  {
   "cell_type": "code",
   "execution_count": 127,
   "id": "e5b4299b",
   "metadata": {},
   "outputs": [
    {
     "data": {
      "text/plain": [
       "[0, 2, 4, 6, 8]"
      ]
     },
     "execution_count": 127,
     "metadata": {},
     "output_type": "execute_result"
    }
   ],
   "source": [
    "# Start in index 0, include all elements, step every 2 elements\n",
    "numbers[0::2]"
   ]
  },
  {
   "cell_type": "code",
   "execution_count": 128,
   "id": "ae80c559",
   "metadata": {},
   "outputs": [
    {
     "data": {
      "text/plain": [
       "'Hello'"
      ]
     },
     "execution_count": 128,
     "metadata": {},
     "output_type": "execute_result"
    }
   ],
   "source": [
    "# You can also slice strings!\n",
    "message = 'Hello'\n",
    "message[:]"
   ]
  },
  {
   "cell_type": "code",
   "execution_count": 129,
   "id": "499bcc44",
   "metadata": {},
   "outputs": [
    {
     "data": {
      "text/plain": [
       "'llo'"
      ]
     },
     "execution_count": 129,
     "metadata": {},
     "output_type": "execute_result"
    }
   ],
   "source": [
    "message[2:5]"
   ]
  },
  {
   "cell_type": "markdown",
   "id": "752a8084",
   "metadata": {},
   "source": [
    "The concatenation (+) and replication (*) operators:\n"
   ]
  },
  {
   "cell_type": "code",
   "execution_count": 131,
   "id": "89d9c0ee",
   "metadata": {},
   "outputs": [
    {
     "data": {
      "text/plain": [
       "['hello', 'yes', 'no']"
      ]
     },
     "execution_count": 131,
     "metadata": {},
     "output_type": "execute_result"
    }
   ],
   "source": [
    "e = ['hello', 'yes', 'no']\n",
    "e"
   ]
  },
  {
   "cell_type": "code",
   "execution_count": 132,
   "id": "aa2f6237",
   "metadata": {},
   "outputs": [
    {
     "data": {
      "text/plain": [
       "['hello', 'yes', 'no', 'here', 'mylist']"
      ]
     },
     "execution_count": 132,
     "metadata": {},
     "output_type": "execute_result"
    }
   ],
   "source": [
    "e + ['here', 'mylist']"
   ]
  },
  {
   "cell_type": "code",
   "execution_count": 133,
   "id": "ed1fac87",
   "metadata": {},
   "outputs": [
    {
     "data": {
      "text/plain": [
       "['hello', 'yes', 'no', 'hello', 'yes', 'no']"
      ]
     },
     "execution_count": 133,
     "metadata": {},
     "output_type": "execute_result"
    }
   ],
   "source": [
    "e * 2"
   ]
  },
  {
   "cell_type": "markdown",
   "id": "553f2fb4",
   "metadata": {},
   "source": [
    "The len(), min(), and max() functions"
   ]
  },
  {
   "cell_type": "code",
   "execution_count": 140,
   "id": "639a486a",
   "metadata": {},
   "outputs": [
    {
     "data": {
      "text/plain": [
       "5"
      ]
     },
     "execution_count": 140,
     "metadata": {},
     "output_type": "execute_result"
    }
   ],
   "source": [
    "f = [5, 10, 15, 20, 25]\n",
    "len(f)"
   ]
  },
  {
   "cell_type": "code",
   "execution_count": 141,
   "id": "fa4cfa36",
   "metadata": {},
   "outputs": [
    {
     "data": {
      "text/plain": [
       "5"
      ]
     },
     "execution_count": 141,
     "metadata": {},
     "output_type": "execute_result"
    }
   ],
   "source": [
    "min(f)\n",
    "# Try this function with a string list. Can you explain what is happening?"
   ]
  },
  {
   "cell_type": "code",
   "execution_count": 143,
   "id": "43f778ea",
   "metadata": {},
   "outputs": [
    {
     "data": {
      "text/plain": [
       "25"
      ]
     },
     "execution_count": 143,
     "metadata": {},
     "output_type": "execute_result"
    }
   ],
   "source": [
    "max(f)\n",
    "# Try this function with a string list. Can you explain what is happening?"
   ]
  },
  {
   "cell_type": "markdown",
   "id": "e93b35a1",
   "metadata": {},
   "source": [
    "Lists can be nested"
   ]
  },
  {
   "cell_type": "code",
   "execution_count": 144,
   "id": "67c25d8e",
   "metadata": {},
   "outputs": [
    {
     "data": {
      "text/plain": [
       "[[1, 2, 3, 4], [10, 20, 30], ['hello', 'from', 'my list']]"
      ]
     },
     "execution_count": 144,
     "metadata": {},
     "output_type": "execute_result"
    }
   ],
   "source": [
    "my_lists = [[1, 2, 3, 4], [10, 20, 30], ['hello', 'from', 'my list']]\n",
    "my_lists"
   ]
  },
  {
   "cell_type": "code",
   "execution_count": 145,
   "id": "926818e8",
   "metadata": {},
   "outputs": [
    {
     "data": {
      "text/plain": [
       "[1, 2, 3, 4]"
      ]
     },
     "execution_count": 145,
     "metadata": {},
     "output_type": "execute_result"
    }
   ],
   "source": [
    "my_lists[0]"
   ]
  },
  {
   "cell_type": "code",
   "execution_count": 147,
   "id": "2656eb4d",
   "metadata": {},
   "outputs": [
    {
     "data": {
      "text/plain": [
       "3"
      ]
     },
     "execution_count": 147,
     "metadata": {},
     "output_type": "execute_result"
    }
   ],
   "source": [
    "# Accessing the second index\n",
    "my_lists[0][2]"
   ]
  },
  {
   "cell_type": "code",
   "execution_count": 148,
   "id": "3f9b96c5",
   "metadata": {},
   "outputs": [
    {
     "data": {
      "text/plain": [
       "['hello', 'from', 'my list']"
      ]
     },
     "execution_count": 148,
     "metadata": {},
     "output_type": "execute_result"
    }
   ],
   "source": [
    "my_lists[2]"
   ]
  },
  {
   "cell_type": "markdown",
   "id": "4388b319",
   "metadata": {},
   "source": [
    "Lists are mutable, meaning they can be changed"
   ]
  },
  {
   "cell_type": "code",
   "execution_count": 161,
   "id": "c400c936",
   "metadata": {},
   "outputs": [
    {
     "data": {
      "text/plain": [
       "['eggs', 'cheese', 'milk', 'bread']"
      ]
     },
     "execution_count": 161,
     "metadata": {},
     "output_type": "execute_result"
    }
   ],
   "source": [
    "groceries = ['eggs', 'cheese', 'milk', 'bread']\n",
    "groceries"
   ]
  },
  {
   "cell_type": "code",
   "execution_count": 162,
   "id": "5483caa4",
   "metadata": {},
   "outputs": [],
   "source": [
    "groceries[2] = 'soy milk'"
   ]
  },
  {
   "cell_type": "code",
   "execution_count": 163,
   "id": "767edce9",
   "metadata": {},
   "outputs": [
    {
     "data": {
      "text/plain": [
       "['eggs', 'cheese', 'soy milk', 'bread']"
      ]
     },
     "execution_count": 163,
     "metadata": {},
     "output_type": "execute_result"
    }
   ],
   "source": [
    "groceries"
   ]
  },
  {
   "cell_type": "code",
   "execution_count": 164,
   "id": "2c70d911",
   "metadata": {},
   "outputs": [
    {
     "data": {
      "text/plain": [
       "['eggs', 'soy milk', 'bread']"
      ]
     },
     "execution_count": 164,
     "metadata": {},
     "output_type": "execute_result"
    }
   ],
   "source": [
    "# delete an element with del()\n",
    "del groceries[1]\n",
    "groceries"
   ]
  },
  {
   "cell_type": "code",
   "execution_count": 165,
   "id": "9b43a237",
   "metadata": {},
   "outputs": [
    {
     "data": {
      "text/plain": [
       "['eggs', 'soy milk', 'bread', 'coffee']"
      ]
     },
     "execution_count": 165,
     "metadata": {},
     "output_type": "execute_result"
    }
   ],
   "source": [
    "# Add a value at the end of a list with append\n",
    "groceries.append('coffee')\n",
    "groceries"
   ]
  },
  {
   "cell_type": "code",
   "execution_count": 167,
   "id": "90ba3f90",
   "metadata": {},
   "outputs": [
    {
     "data": {
      "text/plain": [
       "['bread', 'coffee', 'eggs', 'soy milk']"
      ]
     },
     "execution_count": 167,
     "metadata": {},
     "output_type": "execute_result"
    }
   ],
   "source": [
    "# sort a list\n",
    "groceries.sort()\n",
    "groceries"
   ]
  },
  {
   "cell_type": "code",
   "execution_count": 168,
   "id": "fb475e99",
   "metadata": {},
   "outputs": [
    {
     "data": {
      "text/plain": [
       "[22, 18, 15, 25, 26, 19, 35, 42]"
      ]
     },
     "execution_count": 168,
     "metadata": {},
     "output_type": "execute_result"
    }
   ],
   "source": [
    "ages = [22, 18, 15, 25, 26, 19, 35, 42]\n",
    "ages"
   ]
  },
  {
   "cell_type": "code",
   "execution_count": 169,
   "id": "a35aaf5a",
   "metadata": {},
   "outputs": [
    {
     "data": {
      "text/plain": [
       "[15, 18, 19, 22, 25, 26, 35, 42]"
      ]
     },
     "execution_count": 169,
     "metadata": {},
     "output_type": "execute_result"
    }
   ],
   "source": [
    "ages.sort()\n",
    "ages"
   ]
  },
  {
   "cell_type": "code",
   "execution_count": 170,
   "id": "402772f3",
   "metadata": {},
   "outputs": [
    {
     "data": {
      "text/plain": [
       "[15, 18, 19, 22, 25, 26, 35, 42]"
      ]
     },
     "execution_count": 170,
     "metadata": {},
     "output_type": "execute_result"
    }
   ],
   "source": [
    "# Invert a list\n",
    "ages"
   ]
  },
  {
   "cell_type": "code",
   "execution_count": 171,
   "id": "bba06ef4",
   "metadata": {},
   "outputs": [
    {
     "data": {
      "text/plain": [
       "[42, 35, 26, 25, 22, 19, 18, 15]"
      ]
     },
     "execution_count": 171,
     "metadata": {},
     "output_type": "execute_result"
    }
   ],
   "source": [
    "ages[::-1]"
   ]
  },
  {
   "cell_type": "code",
   "execution_count": 172,
   "id": "0579280f",
   "metadata": {},
   "outputs": [
    {
     "data": {
      "text/plain": [
       "[15, 18, 22, 25, 26, 35, 42]"
      ]
     },
     "execution_count": 172,
     "metadata": {},
     "output_type": "execute_result"
    }
   ],
   "source": [
    "# Delete an element from a specified index\n",
    "ages.pop(2)\n",
    "ages"
   ]
  },
  {
   "cell_type": "code",
   "execution_count": 174,
   "id": "edff7aa5",
   "metadata": {},
   "outputs": [
    {
     "data": {
      "text/plain": [
       "[15, 18, 30, 22, 26, 35, 42]"
      ]
     },
     "execution_count": 174,
     "metadata": {},
     "output_type": "execute_result"
    }
   ],
   "source": [
    "# You can also specify a value to remove with .remove()\n",
    "ages.remove(25)\n",
    "ages"
   ]
  },
  {
   "cell_type": "code",
   "execution_count": 173,
   "id": "1ef9eb85",
   "metadata": {},
   "outputs": [
    {
     "data": {
      "text/plain": [
       "[15, 18, 30, 22, 25, 26, 35, 42]"
      ]
     },
     "execution_count": 173,
     "metadata": {},
     "output_type": "execute_result"
    }
   ],
   "source": [
    "# Insert a value at a specified index\n",
    "ages.insert(2, 30)\n",
    "ages"
   ]
  },
  {
   "cell_type": "markdown",
   "id": "fbfce63d",
   "metadata": {},
   "source": [
    "### Tuples\n",
    "Tuples are static ordered collections of objects.\n",
    "Tuples are identical to lists except in the following:\n",
    "- Tuples are defined by `()`\n",
    "- Tuples are inmutable, they cannot change"
   ]
  },
  {
   "cell_type": "code",
   "execution_count": 175,
   "id": "5d74f8dc",
   "metadata": {},
   "outputs": [
    {
     "data": {
      "text/plain": [
       "('here', 'is', 'a', 'tuple')"
      ]
     },
     "execution_count": 175,
     "metadata": {},
     "output_type": "execute_result"
    }
   ],
   "source": [
    "t = ('here', 'is', 'a', 'tuple')\n",
    "t"
   ]
  },
  {
   "cell_type": "code",
   "execution_count": 176,
   "id": "6a640ad9",
   "metadata": {},
   "outputs": [
    {
     "data": {
      "text/plain": [
       "'here'"
      ]
     },
     "execution_count": 176,
     "metadata": {},
     "output_type": "execute_result"
    }
   ],
   "source": [
    "t[0]"
   ]
  },
  {
   "cell_type": "code",
   "execution_count": 177,
   "id": "1776cf43",
   "metadata": {},
   "outputs": [
    {
     "data": {
      "text/plain": [
       "('here', 'is', 'a', 'tuple')"
      ]
     },
     "execution_count": 177,
     "metadata": {},
     "output_type": "execute_result"
    }
   ],
   "source": [
    "t[0:]"
   ]
  },
  {
   "cell_type": "code",
   "execution_count": 178,
   "id": "604bf39d",
   "metadata": {},
   "outputs": [
    {
     "data": {
      "text/plain": [
       "'tuple'"
      ]
     },
     "execution_count": 178,
     "metadata": {},
     "output_type": "execute_result"
    }
   ],
   "source": [
    "t[-1]"
   ]
  },
  {
   "cell_type": "code",
   "execution_count": 179,
   "id": "4d9d6c44",
   "metadata": {},
   "outputs": [
    {
     "data": {
      "text/plain": [
       "('is', 'a')"
      ]
     },
     "execution_count": 179,
     "metadata": {},
     "output_type": "execute_result"
    }
   ],
   "source": [
    "t[1:3]"
   ]
  },
  {
   "cell_type": "code",
   "execution_count": 180,
   "id": "ab2dd269",
   "metadata": {},
   "outputs": [
    {
     "ename": "TypeError",
     "evalue": "'tuple' object does not support item assignment",
     "output_type": "error",
     "traceback": [
      "\u001b[1;31m---------------------------------------------------------------------------\u001b[0m",
      "\u001b[1;31mTypeError\u001b[0m                                 Traceback (most recent call last)",
      "Input \u001b[1;32mIn [180]\u001b[0m, in \u001b[0;36m<module>\u001b[1;34m\u001b[0m\n\u001b[0;32m      1\u001b[0m \u001b[38;5;66;03m# you cannot modify a tuple\u001b[39;00m\n\u001b[1;32m----> 2\u001b[0m t[\u001b[38;5;241m2\u001b[39m] \u001b[38;5;241m=\u001b[39m \u001b[38;5;124m'\u001b[39m\u001b[38;5;124mone\u001b[39m\u001b[38;5;124m'\u001b[39m\n",
      "\u001b[1;31mTypeError\u001b[0m: 'tuple' object does not support item assignment"
     ]
    }
   ],
   "source": [
    "# you cannot modify a tuple\n",
    "t[2] = 'one'"
   ]
  },
  {
   "cell_type": "markdown",
   "id": "46859bd8",
   "metadata": {},
   "source": [
    "Why use a tuple?\n",
    "Program execution is faster when manipulating a tuple than it is for the equivalent list. (This is probably not going to be noticeable when the list or tuple is small.)\n",
    "\n",
    "Sometimes you don’t want data to be modified. If the values in the collection are meant to remain constant for the life of the program, using a tuple instead of a list guards against accidental modification."
   ]
  },
  {
   "cell_type": "markdown",
   "id": "6f65270a",
   "metadata": {},
   "source": [
    "### Finally, dictionaries\n",
    "Dictionaries and lists share the following characteristics:\n",
    "\n",
    "- Both are mutable.\n",
    "- Both are dynamic. They can grow and shrink as needed.\n",
    "- Both can be nested. A list can contain another list. A dictionary can contain another dictionary. A dictionary can also contain a list, and vice versa.\n",
    "\n",
    "Dictionaries differ from lists primarily in how elements are accessed:\n",
    "\n",
    "- List elements are accessed by their position in the list, via indexing.\n",
    "- Dictionary elements are accessed via keys.\n",
    "\n",
    "`{key:value}`"
   ]
  },
  {
   "cell_type": "code",
   "execution_count": 181,
   "id": "a629af63",
   "metadata": {},
   "outputs": [
    {
     "data": {
      "text/plain": [
       "{'USA': 'Baseball', 'Canada': 'Hockey', 'Mexico': 'Soccer'}"
      ]
     },
     "execution_count": 181,
     "metadata": {},
     "output_type": "execute_result"
    }
   ],
   "source": [
    "d = {'USA' : 'Baseball', 'Canada' : 'Hockey', 'Mexico' : 'Soccer'}\n",
    "d"
   ]
  },
  {
   "cell_type": "code",
   "execution_count": 182,
   "id": "0fb41624",
   "metadata": {},
   "outputs": [
    {
     "data": {
      "text/plain": [
       "'Baseball'"
      ]
     },
     "execution_count": 182,
     "metadata": {},
     "output_type": "execute_result"
    }
   ],
   "source": [
    "# To access a value, call the dictionary key\n",
    "d['USA']"
   ]
  },
  {
   "cell_type": "code",
   "execution_count": 184,
   "id": "50c3d9ac",
   "metadata": {},
   "outputs": [
    {
     "data": {
      "text/plain": [
       "{'USA': 'Football', 'Canada': 'Hockey', 'Mexico': 'Soccer'}"
      ]
     },
     "execution_count": 184,
     "metadata": {},
     "output_type": "execute_result"
    }
   ],
   "source": [
    "# Dictionaries can be changed\n",
    "d['USA'] = 'Football'\n",
    "d"
   ]
  },
  {
   "cell_type": "code",
   "execution_count": 185,
   "id": "f879a757",
   "metadata": {},
   "outputs": [
    {
     "data": {
      "text/plain": [
       "{'USA': 'Football',\n",
       " 'Canada': 'Hockey',\n",
       " 'Mexico': 'Soccer',\n",
       " 'Chile': 'Bird watching'}"
      ]
     },
     "execution_count": 185,
     "metadata": {},
     "output_type": "execute_result"
    }
   ],
   "source": [
    "# To add a new key value just assign a new one\n",
    "d['Chile'] = 'Bird watching'\n",
    "d"
   ]
  },
  {
   "cell_type": "code",
   "execution_count": 186,
   "id": "2f1c3d60",
   "metadata": {},
   "outputs": [
    {
     "data": {
      "text/plain": [
       "{'USA': 'Football', 'Canada': 'Hockey', 'Mexico': 'Soccer', 'Chile': 'Surfing'}"
      ]
     },
     "execution_count": 186,
     "metadata": {},
     "output_type": "execute_result"
    }
   ],
   "source": [
    "# Updating an entry works similarly\n",
    "d['Chile'] = 'Surfing'\n",
    "d"
   ]
  },
  {
   "cell_type": "code",
   "execution_count": 187,
   "id": "7a889e3f",
   "metadata": {},
   "outputs": [
    {
     "data": {
      "text/plain": [
       "{'USA': 'Football', 'Canada': 'Hockey', 'Chile': 'Surfing'}"
      ]
     },
     "execution_count": 187,
     "metadata": {},
     "output_type": "execute_result"
    }
   ],
   "source": [
    "# To delete an element use the del statement and the key \n",
    "del d['Mexico']\n",
    "d"
   ]
  },
  {
   "cell_type": "code",
   "execution_count": 192,
   "id": "0334f47c",
   "metadata": {},
   "outputs": [
    {
     "data": {
      "text/plain": [
       "{3: 'd', 2: 'c', 1: 'b', 0: 'a'}"
      ]
     },
     "execution_count": 192,
     "metadata": {},
     "output_type": "execute_result"
    }
   ],
   "source": [
    "# Integers can also be used as keys\n",
    "d2 = {3: 'd', 2: 'c', 1: 'b', 0: 'a'}\n",
    "d2"
   ]
  },
  {
   "cell_type": "code",
   "execution_count": 193,
   "id": "99be702d",
   "metadata": {},
   "outputs": [
    {
     "data": {
      "text/plain": [
       "'a'"
      ]
     },
     "execution_count": 193,
     "metadata": {},
     "output_type": "execute_result"
    }
   ],
   "source": [
    "d2[0]"
   ]
  },
  {
   "cell_type": "code",
   "execution_count": 206,
   "id": "15e701ad",
   "metadata": {},
   "outputs": [
    {
     "data": {
      "text/plain": [
       "{'names': ['Jon', 'Bob', 'Randy'],\n",
       " 'ages': [25, 26, 27],\n",
       " 'pets': {'dog': 'Max', 'cat': 'Butter', 'turtle': 'Speedy'}}"
      ]
     },
     "execution_count": 206,
     "metadata": {},
     "output_type": "execute_result"
    }
   ],
   "source": [
    "d3 = {}\n",
    "\n",
    "d3['names'] = ['Jon', 'Bob', 'Randy']\n",
    "d3['ages'] = [ 25, 26, 27]\n",
    "d3['pets'] = {'dog' : 'Max', 'cat' : 'Butter', 'turtle' : 'Speedy'}\n",
    "\n",
    "d3"
   ]
  },
  {
   "cell_type": "code",
   "execution_count": 207,
   "id": "c944027e",
   "metadata": {},
   "outputs": [
    {
     "data": {
      "text/plain": [
       "'Butter'"
      ]
     },
     "execution_count": 207,
     "metadata": {},
     "output_type": "execute_result"
    }
   ],
   "source": [
    "# Access a nested dictionary value\n",
    "d3['pets']['cat']"
   ]
  },
  {
   "cell_type": "code",
   "execution_count": 208,
   "id": "6b9ddfa5",
   "metadata": {},
   "outputs": [
    {
     "data": {
      "text/plain": [
       "27"
      ]
     },
     "execution_count": 208,
     "metadata": {},
     "output_type": "execute_result"
    }
   ],
   "source": [
    "# Access a nested list value\n",
    "d3['ages'][2]"
   ]
  },
  {
   "cell_type": "markdown",
   "id": "c7ee73a0",
   "metadata": {},
   "source": [
    "Some dictionary methods\n",
    "- keys()\n",
    "- values()\n",
    "- clear() \n",
    "- pop()"
   ]
  },
  {
   "cell_type": "code",
   "execution_count": 209,
   "id": "0ead69bf",
   "metadata": {},
   "outputs": [
    {
     "data": {
      "text/plain": [
       "dict_keys(['names', 'ages', 'pets'])"
      ]
     },
     "execution_count": 209,
     "metadata": {},
     "output_type": "execute_result"
    }
   ],
   "source": [
    "# Return keys in dictionary\n",
    "d3.keys()"
   ]
  },
  {
   "cell_type": "code",
   "execution_count": 210,
   "id": "296fc747",
   "metadata": {},
   "outputs": [
    {
     "data": {
      "text/plain": [
       "dict_values([['Jon', 'Bob', 'Randy'], [25, 26, 27], {'dog': 'Max', 'cat': 'Butter', 'turtle': 'Speedy'}])"
      ]
     },
     "execution_count": 210,
     "metadata": {},
     "output_type": "execute_result"
    }
   ],
   "source": [
    "# Return values in dictionary\n",
    "d3.values()"
   ]
  },
  {
   "cell_type": "code",
   "execution_count": 212,
   "id": "228dc067",
   "metadata": {},
   "outputs": [
    {
     "data": {
      "text/plain": [
       "{'dog': 'Max', 'cat': 'Butter', 'turtle': 'Speedy'}"
      ]
     },
     "execution_count": 212,
     "metadata": {},
     "output_type": "execute_result"
    }
   ],
   "source": [
    "d3.pop('pets')"
   ]
  },
  {
   "cell_type": "code",
   "execution_count": 213,
   "id": "119265b0",
   "metadata": {},
   "outputs": [
    {
     "data": {
      "text/plain": [
       "{'names': ['Jon', 'Bob', 'Randy'], 'ages': [25, 26, 27]}"
      ]
     },
     "execution_count": 213,
     "metadata": {},
     "output_type": "execute_result"
    }
   ],
   "source": [
    "d3"
   ]
  },
  {
   "cell_type": "code",
   "execution_count": 214,
   "id": "aec6f54e",
   "metadata": {},
   "outputs": [
    {
     "data": {
      "text/plain": [
       "{}"
      ]
     },
     "execution_count": 214,
     "metadata": {},
     "output_type": "execute_result"
    }
   ],
   "source": [
    "# Clear a dictionary\n",
    "d3.clear()\n",
    "d3"
   ]
  },
  {
   "cell_type": "markdown",
   "id": "80ae6538",
   "metadata": {},
   "source": [
    "## Converting Data types\n",
    "- To convert to String `str()`\n",
    "- To convert to Integer `int()`\n",
    "- To convert to Float `float()`\n",
    "- To convert to Bool `bool()`"
   ]
  },
  {
   "cell_type": "code",
   "execution_count": 215,
   "id": "9bb3accb",
   "metadata": {},
   "outputs": [
    {
     "data": {
      "text/plain": [
       "'23'"
      ]
     },
     "execution_count": 215,
     "metadata": {},
     "output_type": "execute_result"
    }
   ],
   "source": [
    "age = 23\n",
    "str(age)"
   ]
  },
  {
   "cell_type": "code",
   "execution_count": 218,
   "id": "3d5febf9",
   "metadata": {},
   "outputs": [
    {
     "name": "stdout",
     "output_type": "stream",
     "text": [
      "23 years old\n"
     ]
    }
   ],
   "source": [
    "print(str(age) + \" years old\")"
   ]
  },
  {
   "cell_type": "markdown",
   "id": "74e8584c",
   "metadata": {},
   "source": [
    "## Exercises for participation credit\n",
    "Please complete the following exercises and upload your completed notebook to your Github repository for participation credit.\n",
    "\n",
    "We can use `input()` to catch input from the user. This is a string type variable."
   ]
  },
  {
   "cell_type": "code",
   "execution_count": 220,
   "id": "311dbb98",
   "metadata": {},
   "outputs": [
    {
     "name": "stdout",
     "output_type": "stream",
     "text": [
      "Enter your value 6\n",
      "6\n"
     ]
    }
   ],
   "source": [
    "x = input('Enter your value ')\n",
    "print(x)"
   ]
  },
  {
   "cell_type": "markdown",
   "id": "d21d74a0",
   "metadata": {},
   "source": [
    "1. Write a code that gets two integers from the user. Save the first input as `a` and the second value as `b`. Run and print the following operations:\n",
    " - a + b\n",
    " - a - b\n",
    " - a * b\n",
    " - a ** b\n",
    " - a / b"
   ]
  },
  {
   "cell_type": "code",
   "execution_count": 1,
   "id": "50f76716",
   "metadata": {},
   "outputs": [
    {
     "name": "stdout",
     "output_type": "stream",
     "text": [
      "The answer\n"
     ]
    }
   ],
   "source": [
    "print(\"The answer\")"
   ]
  },
  {
   "cell_type": "markdown",
   "id": "c9cf9f05",
   "metadata": {},
   "source": [
    "2. Reverse this list aList = [100, 200, 300, 400, 500]. Expected result = [500, 400, 300, 200, 100]"
   ]
  },
  {
   "cell_type": "markdown",
   "id": "7793dda3",
   "metadata": {},
   "source": [
    "3. Create the following list ` ['My', 'name', 'is', 'Kelly']`\n",
    "\n",
    "Using only these two lists:\n",
    "- `list1 = [\"M\", \"na\", \"i\", \"Ke\"]` \n",
    "- `list2 = [\"y\", \"me\", \"s\", \"lly\"]`"
   ]
  },
  {
   "cell_type": "markdown",
   "id": "e9f296ee",
   "metadata": {},
   "source": [
    "4. Split the following list in 3 equal sized lists. Invert the the new lists\n",
    "- Original list [11, 45, 8, 23, 14, 12, 78, 45, 89]\n",
    "\n",
    "\n",
    "- Chunk 1 [11, 45, 8]\n",
    "\n",
    "After reversing it [8, 45, 11]\n",
    "\n",
    "- Chunk 2 [23, 14, 12]\n",
    "\n",
    "After reversing it [12, 14, 23]\n",
    "\n",
    "- Chunk 3 [78, 45, 89]\n",
    "\n",
    "After reversing it [89, 45, 78]"
   ]
  },
  {
   "cell_type": "code",
   "execution_count": null,
   "id": "b02e2848",
   "metadata": {},
   "outputs": [],
   "source": []
  }
 ],
 "metadata": {
  "kernelspec": {
   "display_name": "Python 3 (ipykernel)",
   "language": "python",
   "name": "python3"
  },
  "language_info": {
   "codemirror_mode": {
    "name": "ipython",
    "version": 3
   },
   "file_extension": ".py",
   "mimetype": "text/x-python",
   "name": "python",
   "nbconvert_exporter": "python",
   "pygments_lexer": "ipython3",
   "version": "3.10.4"
  }
 },
 "nbformat": 4,
 "nbformat_minor": 5
}
